{
  "nbformat": 4,
  "nbformat_minor": 0,
  "metadata": {
    "colab": {
      "provenance": []
    },
    "kernelspec": {
      "name": "python3",
      "display_name": "Python 3"
    },
    "language_info": {
      "name": "python"
    }
  },
  "cells": [
    {
      "cell_type": "markdown",
      "source": [
        "# **Gabarito Lista de Exercícios Prof. Allan Vera**\n",
        "\n",
        "Questão 01"
      ],
      "metadata": {
        "id": "Cw55EHqahfuk"
      }
    },
    {
      "cell_type": "code",
      "execution_count": null,
      "metadata": {
        "id": "NyOZBq5zhb7j"
      },
      "outputs": [],
      "source": [
        "seq = \"ATGCTTAGC\"\n",
        "\n",
        "a = seq.count(\"A\")\n",
        "t = seq.count(\"T\")\n",
        "c = seq.count(\"C\")\n",
        "g = seq.count(\"G\")\n",
        "\n",
        "print(f\"A: {a}, T: {t}, C: {c}, G: {g}\")"
      ]
    },
    {
      "cell_type": "markdown",
      "source": [
        "Questão 02"
      ],
      "metadata": {
        "id": "V3p_eBfkhkZs"
      }
    },
    {
      "cell_type": "code",
      "source": [
        "seq = \"ATGC\"\n",
        "\n",
        "complemento = {\"A\": \"T\", \"T\": \"A\", \"C\": \"G\", \"G\": \"C\"}\n",
        "\n",
        "seq_reversa = seq[::-1]\n",
        "\n",
        "reversa = \"\"\n",
        "for base in seq_reversa:\n",
        "    reversa += complemento[base]\n",
        "\n",
        "print(\"Sequência reversa complementar:\", reversa)\n"
      ],
      "metadata": {
        "id": "t4qX5G0Phl7L"
      },
      "execution_count": null,
      "outputs": []
    },
    {
      "cell_type": "markdown",
      "source": [
        "Questão 03"
      ],
      "metadata": {
        "id": "vopALo6XiUDQ"
      }
    },
    {
      "cell_type": "code",
      "source": [
        "seq = \"ATGCTTAGC\"\n",
        "rna = seq.replace(\"T\", \"U\")\n",
        "print(\"RNA:\", rna)"
      ],
      "metadata": {
        "id": "GjMtM8PRiV5P"
      },
      "execution_count": null,
      "outputs": []
    },
    {
      "cell_type": "markdown",
      "source": [
        "Questão 04"
      ],
      "metadata": {
        "id": "F2omU3p4iaSX"
      }
    },
    {
      "cell_type": "code",
      "source": [
        "seq = \"AATGCCATGGGATG\"\n",
        "\n",
        "for i in range(len(seq) - 2):\n",
        "    if seq[i:i+3] == \"ATG\":\n",
        "        print(\"Códon de início encontrado na posição:\", i)\n"
      ],
      "metadata": {
        "id": "anANZqcLiiTp"
      },
      "execution_count": null,
      "outputs": []
    },
    {
      "cell_type": "markdown",
      "source": [
        "Questão 05"
      ],
      "metadata": {
        "id": "5HfoaGhlijHg"
      }
    },
    {
      "cell_type": "code",
      "source": [
        "seq = \"ATGTGGTAA\"\n",
        "tabela = {\n",
        "    \"ATG\": \"M\",  # Metionina\n",
        "    \"TGG\": \"W\",  # Triptofano\n",
        "    \"TAA\": \"STOP\"\n",
        "}\n",
        "\n",
        "proteina = \"\"\n",
        "for i in range(0, len(seq), 3):\n",
        "    codon = seq[i:i+3]\n",
        "    if codon in tabela:\n",
        "        aa = tabela[codon]\n",
        "        if aa == \"STOP\":\n",
        "            break\n",
        "        proteina += aa\n",
        "\n",
        "print(\"Proteína traduzida:\", proteina)"
      ],
      "metadata": {
        "id": "6Yj1bQi4ilJY"
      },
      "execution_count": null,
      "outputs": []
    },
    {
      "cell_type": "markdown",
      "source": [
        "Questão 06"
      ],
      "metadata": {
        "id": "RgL5rflGitbo"
      }
    },
    {
      "cell_type": "code",
      "source": [
        "seq = \"ATGCGATATGCTAG\"\n",
        "motivo = input(\"Digite o motivo que deseja procurar: \")\n",
        "\n",
        "for i in range(len(seq) - len(motivo) + 1):\n",
        "    if seq[i:i+len(motivo)] == motivo:\n",
        "        print(f\"Motivo '{motivo}' encontrado na posição: {i}\")\n",
        "\n"
      ],
      "metadata": {
        "id": "6AMf-CrHius4"
      },
      "execution_count": null,
      "outputs": []
    },
    {
      "cell_type": "code",
      "source": [
        "# Perfumaria Básica KKKKKKKKKKKKKKKKKKKKK\n",
        "seq = \"ATGCGATATGCTAG\"\n",
        "\n",
        "motivo = input(\"Digite o motivo que deseja procurar: \")\n",
        "mapa = [\" \"] * len(seq)\n",
        "\n",
        "# Vamos fazer uso do laço duplo aqui... vimos como While aqui te mostro com FOR\n",
        "for i in range(len(seq) - len(motivo) + 1):\n",
        "    if seq[i:i+len(motivo)] == motivo:\n",
        "        print(f\"Motivo '{motivo}' encontrado na posição: {i}\")\n",
        "        # Marca o motivo no mapa\n",
        "        for j in range(len(motivo)):\n",
        "            mapa[i+j] = motivo[j]\n",
        "\n",
        "# Aqui fazemos ele mostrar algo como um mapeamento... não tem função só pra ficar bonito kkkk\n",
        "print(\"\\nSequência : \", seq)\n",
        "print(\"Mapeamento: \", \"\".join(mapa))\n"
      ],
      "metadata": {
        "id": "ARVwUBHS7feq"
      },
      "execution_count": null,
      "outputs": []
    },
    {
      "cell_type": "markdown",
      "source": [
        "Questão 07"
      ],
      "metadata": {
        "id": "FlUKHhCdi4eZ"
      }
    },
    {
      "cell_type": "code",
      "source": [
        "seq = \"ATGCGATGATGCTATTATGt\"\n",
        "freq = {}\n",
        "\n",
        "for i in range(0, len(seq) - 2, 3):\n",
        "    codon = seq[i:i+3]\n",
        "    if codon in freq:\n",
        "        freq[codon] += 1\n",
        "    else:\n",
        "        freq[codon] = 1\n",
        "\n",
        "print(\"Frequência de códons:\", freq)\n"
      ],
      "metadata": {
        "id": "tZIsvzcOiybQ"
      },
      "execution_count": null,
      "outputs": []
    }
  ]
}